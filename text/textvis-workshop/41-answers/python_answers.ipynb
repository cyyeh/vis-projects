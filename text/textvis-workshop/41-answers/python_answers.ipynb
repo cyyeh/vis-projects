{
 "cells": [
  {
   "cell_type": "markdown",
   "metadata": {},
   "source": [
    "# Introduction to Python"
   ]
  },
  {
   "cell_type": "code",
   "execution_count": 3,
   "metadata": {
    "collapsed": false
   },
   "outputs": [
    {
     "data": {
      "text/plain": [
       "'The bat in the hat liked to walk about, with a little bat spring and a little bat shout.'"
      ]
     },
     "execution_count": 3,
     "metadata": {},
     "output_type": "execute_result"
    }
   ],
   "source": [
    "# 1.2.1\n",
    "\n",
    "another_sentence = \"The cat in the hat liked to walk about, with a little cat spring and a little cat shout.\"\n",
    "\n",
    "another_sentence = another_sentence.replace('cat', 'bat')\n",
    "another_sentence"
   ]
  },
  {
   "cell_type": "code",
   "execution_count": 1,
   "metadata": {
    "collapsed": true
   },
   "outputs": [],
   "source": [
    "# 1.2.2\n",
    "\n",
    "another_dict = {}"
   ]
  },
  {
   "cell_type": "code",
   "execution_count": 5,
   "metadata": {
    "collapsed": true
   },
   "outputs": [],
   "source": [
    "# 1.2.3\n",
    "\n",
    "list1 = ['how', 'are', 'you']\n",
    "\n",
    "list2 = ['i', 'am', 'great']\n",
    "\n",
    "another_dict['list1'] = list1\n",
    "another_dict['list2'] = list2"
   ]
  },
  {
   "cell_type": "code",
   "execution_count": 8,
   "metadata": {
    "collapsed": false
   },
   "outputs": [
    {
     "name": "stdout",
     "output_type": "stream",
     "text": [
      "you\n",
      "i\n"
     ]
    }
   ],
   "source": [
    "# 1.2.4\n",
    "\n",
    "print(another_dict['list1'][-1])\n",
    "print(another_dict['list2'][0])"
   ]
  },
  {
   "cell_type": "code",
   "execution_count": 1,
   "metadata": {
    "collapsed": false
   },
   "outputs": [
    {
     "name": "stdout",
     "output_type": "stream",
     "text": [
      "uoy era woh ,olleh\n",
      "[6, 5, 4, 3, 2, 1]\n"
     ]
    }
   ],
   "source": [
    "# 1.2.5\n",
    "\n",
    "a_string = \"hello, how are you\"\n",
    "\n",
    "a_list = [1, 2, 3, 4, 5, 6]\n",
    "\n",
    "print(a_string[::-1])\n",
    "\n",
    "print(a_list[::-1])"
   ]
  },
  {
   "cell_type": "markdown",
   "metadata": {},
   "source": [
    "# Analyze a Sentence"
   ]
  },
  {
   "cell_type": "code",
   "execution_count": null,
   "metadata": {
    "collapsed": true
   },
   "outputs": [],
   "source": [
    "# Exercise 1\n",
    "# Plot the lengths of all the sentences in the __gold__ article.\n",
    "# First print them and then see if you can make an ascii bar chart of them.\n",
    "# It could look something like this...\n",
    "#\n",
    "# ****\n",
    "# ******************\n",
    "# ***********\n",
    "#\n",
    "\n",
    "gold = reuters.open('test/16589').read()\n",
    "\n",
    "# Step one. Find all the lengths and print them to the console/notebook.\n",
    "g_sentences = nltk.sent_tokenize(gold)\n",
    "g_sentences_len = [len(sent) for sent in g_sentences]\n",
    "\n",
    "# Step two (extra credit). Make an horizontal ascii bar graph of the numbers \n",
    "for val in g_sentences_len:\n",
    "    bar_len = val / 5\n",
    "    print(\"|\" + \"*\" * bar_len)"
   ]
  },
  {
   "cell_type": "code",
   "execution_count": null,
   "metadata": {
    "collapsed": true
   },
   "outputs": [],
   "source": [
    "# Exercise 2\n",
    "# Plot the number of verbs (VB, VBD, VBG, VBN, VBP) and nouns (NN, NNS, NNP,NNPS) in the gold article.\n",
    "# First print them. and then see if you can make an ascii bar chart of them.\n",
    "#\n",
    "# ****\n",
    "# ******************\n",
    "# ***********\n",
    "#\n",
    "\n",
    "def get_tagged_any(words, tags):\n",
    "    tagged = nltk.pos_tag(words)\n",
    "    return [tup for tup in tagged if tup[1] in tags]\n",
    "\n",
    "gold = reuters.open('test/16589').read()\n",
    "# Step one. Find all the lengths and print them to the console/notebook.\n",
    "gs = nltk.sent_tokenize(gold)\n",
    "\n",
    "res = []\n",
    "verbs_all = []\n",
    "for gsentence in gs:\n",
    "    tags = ['VB', 'VBD', 'VBG', 'VBN', 'VBP']\n",
    "    words = nltk.word_tokenize(gsentence)\n",
    "    verbs = get_tagged_any(words, tags)\n",
    "    res.append(len(verbs))\n",
    "    verbs_all.append(verbs)\n",
    "\n",
    "print(res)\n",
    "print(verbs_all)\n",
    "\n",
    "\n",
    "# Step two (extra credit). Make an horizontal ascii bar graph of the numbers \n",
    "\n",
    "for val in res:\n",
    "    bar_len = val\n",
    "    print(\"|\" + \"*\" * bar_len)"
   ]
  },
  {
   "cell_type": "markdown",
   "metadata": {},
   "source": [
    "# Analyze a Document"
   ]
  },
  {
   "cell_type": "code",
   "execution_count": null,
   "metadata": {
    "collapsed": true
   },
   "outputs": [],
   "source": [
    "# 1.4.1\n",
    "\n",
    "my_text.concordance('Hatter')\n",
    "\n",
    "my_text.concordance('Alice')\n",
    "\n",
    "my_text.findall('<.*><[Hh]atter><.*>')"
   ]
  },
  {
   "cell_type": "code",
   "execution_count": null,
   "metadata": {
    "collapsed": true
   },
   "outputs": [],
   "source": [
    "# 1.4.2\n",
    "\n",
    "def remove_word_fragments(tokens):\n",
    "    #return tokens\n",
    "    return [token for token in tokens if not \"'\" in token]\n"
   ]
  },
  {
   "cell_type": "code",
   "execution_count": null,
   "metadata": {
    "collapsed": true
   },
   "outputs": [],
   "source": [
    "# 1.4.3\n",
    "\n",
    "def clean_tokens(tokens):\n",
    "    stops = stopwords.words('english')\n",
    "    punc = punctuation + \"--''`\"\n",
    "    cleaned_tokens = lowercase(tokens)\n",
    "    cleaned_tokens = remove_punc(cleaned_tokens, punc)\n",
    "    cleaned_tokens = remove_word_fragments(cleaned_tokens)\n",
    "    cleaned_tokens = remove_stopwords(cleaned_tokens, stops)\n",
    "    return cleaned_tokens\n"
   ]
  },
  {
   "cell_type": "code",
   "execution_count": null,
   "metadata": {
    "collapsed": true
   },
   "outputs": [],
   "source": [
    "# 1.4.4\n",
    "\n",
    "from nltk.util import ngrams\n",
    "\n",
    "token_sixgrams = ngrams(tokens, 6)\n",
    "list(token_sixgrams)[:20]\n",
    "\n",
    "\n",
    "filtered_token_sixgrams = ngrams(filtered_normalized_tokens, 6)\n",
    "list(token_sixgrams)[:20]\n",
    "\n",
    "\n"
   ]
  },
  {
   "cell_type": "code",
   "execution_count": null,
   "metadata": {
    "collapsed": true
   },
   "outputs": [],
   "source": [
    "# 1.4.5\n",
    "\n",
    "# now create a finder from the tokens with stop words filtered \n",
    "finder = BigramCollocationFinder.from_words(filtered_normalized_tokens)\n",
    "finder.score_ngrams(bigram_measures.likelihood_ratio)[:20]"
   ]
  },
  {
   "cell_type": "code",
   "execution_count": null,
   "metadata": {
    "collapsed": true
   },
   "outputs": [],
   "source": [
    "# UNUSED\n",
    "\n",
    "from nltk.collocations import TrigramCollocationFinder\n",
    "\n",
    "tfinder = TrigramCollocationFinder.from_words(filtered_normalized_tokens)\n",
    "\n",
    "trigram_measures = nltk.collocations.TrigramAssocMeasures()\n",
    "tfinder.score_ngrams(trigram_measures.likelihood_ratio)[:20]\n",
    "\n",
    "\n",
    "tfinder.apply_freq_filter(4)\n",
    "tfinder.score_ngrams(trigram_measures.likelihood_ratio)[:20]"
   ]
  }
 ],
 "metadata": {
  "kernelspec": {
   "display_name": "Python 2",
   "language": "python",
   "name": "python2"
  },
  "language_info": {
   "codemirror_mode": {
    "name": "ipython",
    "version": 2
   },
   "file_extension": ".py",
   "mimetype": "text/x-python",
   "name": "python",
   "nbconvert_exporter": "python",
   "pygments_lexer": "ipython2",
   "version": "2.7.11"
  }
 },
 "nbformat": 4,
 "nbformat_minor": 0
}
