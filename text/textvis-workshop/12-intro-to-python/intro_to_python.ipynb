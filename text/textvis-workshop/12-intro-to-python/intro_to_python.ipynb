{
 "cells": [
  {
   "cell_type": "markdown",
   "metadata": {},
   "source": [
    "# Hello and Welcome!"
   ]
  },
  {
   "cell_type": "markdown",
   "metadata": {},
   "source": [
    "Hi There! We are excited that you will be joining us on a text analysis and visualization adventure!\n",
    "\n",
    "We want everyone to be prepared for this adventure, so it is worth taking a few moments to learn a bit about the tools we are going to be using. \n",
    "\n",
    "Specifically, we will be using the Python programming language to work through the analysis portion of the workshop. Why python? Well, it has a fairly minimalistic syntax to learn. It is versatile and can be used for lots of programming tasks. And, importantly, it is very popular in the text analysis and NLP communities. \n",
    "\n",
    "There are a number of text analysis tools built using python. We will be focusing on using [NLTK](http://www.nltk.org/) in this workshop because of its wide adoption and broad features. \n",
    "\n",
    "But before we dive into NLTK and text analysis specifically, we wanted to orient those less familiar with the basic features of the language so it is easy to understand and work with the code presented during the workshop.\n",
    "\n",
    "So let's get started learning a bit of Python!"
   ]
  },
  {
   "cell_type": "markdown",
   "metadata": {},
   "source": [
    "## Jupyter Notebooks"
   ]
  },
  {
   "cell_type": "markdown",
   "metadata": {},
   "source": [
    "For this workshop, we have organized the lessons as a series of [Jupyter Notebooks](http://jupyter.org/). If you have heard of iPython Notebooks - this is basically the same thing.\n",
    "\n",
    "Jupyter Notebooks are a way to combine text and executed code together as a single interactive document. \n"
   ]
  },
  {
   "cell_type": "markdown",
   "metadata": {},
   "source": [
    "## Variables and Data Types"
   ]
  },
  {
   "cell_type": "markdown",
   "metadata": {},
   "source": [
    "\n",
    "\n",
    "First things first, let's assign some variables. \n"
   ]
  },
  {
   "cell_type": "code",
   "execution_count": 1,
   "metadata": {
    "collapsed": false
   },
   "outputs": [
    {
     "data": {
      "text/plain": [
       "7.4"
      ]
     },
     "execution_count": 1,
     "metadata": {},
     "output_type": "execute_result"
    }
   ],
   "source": [
    "# this is a string <- this is a comment\n",
    "a_string = \"hello, how are you\"\n",
    "\n",
    "# this is a float\n",
    "a_number = 7.4\n",
    "\n",
    "a_number"
   ]
  },
  {
   "cell_type": "markdown",
   "metadata": {},
   "source": [
    "Comments in python start with a `#` and go to the end of the line. \n",
    "\n",
    "In Jupyter Notebooks, we can see the output of the code block is the return value of the last statement in the block.\n",
    "\n",
    "Use `print()` to print more lines\n",
    "\n",
    "Data types have methods in python. For example, the [string](https://docs.python.org/2/library/string.html) type has `capitalize`, `lower`, and `find`:"
   ]
  },
  {
   "cell_type": "code",
   "execution_count": 2,
   "metadata": {
    "collapsed": false
   },
   "outputs": [
    {
     "data": {
      "text/plain": [
       "'Hello, how are you'"
      ]
     },
     "execution_count": 2,
     "metadata": {},
     "output_type": "execute_result"
    }
   ],
   "source": [
    "a_string.capitalize()"
   ]
  },
  {
   "cell_type": "markdown",
   "metadata": {},
   "source": [
    "Some functions work on data structures, like `len()`"
   ]
  },
  {
   "cell_type": "code",
   "execution_count": 4,
   "metadata": {
    "collapsed": false
   },
   "outputs": [
    {
     "data": {
      "text/plain": [
       "18"
      ]
     },
     "execution_count": 4,
     "metadata": {},
     "output_type": "execute_result"
    }
   ],
   "source": [
    "len(a_string)"
   ]
  },
  {
   "cell_type": "markdown",
   "metadata": {},
   "source": [
    "Other common functions include conversions to different data types. \n",
    "\n",
    "For example, to print a string and an associated number"
   ]
  },
  {
   "cell_type": "code",
   "execution_count": 5,
   "metadata": {
    "collapsed": false
   },
   "outputs": [
    {
     "ename": "TypeError",
     "evalue": "cannot concatenate 'str' and 'float' objects",
     "output_type": "error",
     "traceback": [
      "\u001b[0;31m---------------------------------------------------------------------------\u001b[0m",
      "\u001b[0;31mTypeError\u001b[0m                                 Traceback (most recent call last)",
      "\u001b[0;32m<ipython-input-5-920c27310c7b>\u001b[0m in \u001b[0;36m<module>\u001b[0;34m()\u001b[0m\n\u001b[0;32m----> 1\u001b[0;31m \u001b[0ma_string\u001b[0m \u001b[0;34m+\u001b[0m \u001b[0ma_number\u001b[0m\u001b[0;34m\u001b[0m\u001b[0m\n\u001b[0m",
      "\u001b[0;31mTypeError\u001b[0m: cannot concatenate 'str' and 'float' objects"
     ]
    }
   ],
   "source": [
    "a_string + a_number"
   ]
  },
  {
   "cell_type": "markdown",
   "metadata": {},
   "source": [
    "Instead, you have to convert the number to a string first. "
   ]
  },
  {
   "cell_type": "code",
   "execution_count": 6,
   "metadata": {
    "collapsed": false
   },
   "outputs": [
    {
     "data": {
      "text/plain": [
       "'hello, how are you7.4'"
      ]
     },
     "execution_count": 6,
     "metadata": {},
     "output_type": "execute_result"
    }
   ],
   "source": [
    "a_string + str(a_number)"
   ]
  },
  {
   "cell_type": "markdown",
   "metadata": {},
   "source": [
    "<h3 style=\"color:red\" class=\"exercise\">Your Turn</h3>\n",
    "\n",
    "Check out the [python documentation](https://docs.python.org/2/library/stdtypes.html#string-methods) to find a string method that will change all occurances of 'cat' in the following sentence, to another word - like 'bat'.\n",
    "\n",
    "_Hint: in Jupyter notebooks, you can use the **tab** button to autocomplete or recommend methods to call. Try it out after typing a variable and then a `.`_\n"
   ]
  },
  {
   "cell_type": "code",
   "execution_count": 7,
   "metadata": {
    "collapsed": false
   },
   "outputs": [
    {
     "data": {
      "text/plain": [
       "'The cat in the hat liked to walk about, with a little cat spring and a little cat shout.'"
      ]
     },
     "execution_count": 7,
     "metadata": {},
     "output_type": "execute_result"
    }
   ],
   "source": [
    "# 1.2.1\n",
    "\n",
    "another_sentence = \"The cat in the hat liked to walk about, with a little cat spring and a little cat shout.\"\n",
    "\n",
    "## Your code:\n",
    "# modify another_sentence to change the word 'cat' to 'bat'\n",
    "\n",
    "\n",
    "# view results\n",
    "another_sentence"
   ]
  },
  {
   "cell_type": "markdown",
   "metadata": {},
   "source": [
    "## Lists and Dicts"
   ]
  },
  {
   "cell_type": "markdown",
   "metadata": {},
   "source": [
    "Two very common data types you will use frequently are [lists](https://docs.python.org/2/tutorial/introduction.html#lists) and [dicts](https://docs.python.org/2/tutorial/datastructures.html#dictionaries) or Dictionaries. \n",
    "\n",
    "**Lists** are typically used like arrays. \n",
    "\n",
    "Creating a List:"
   ]
  },
  {
   "cell_type": "code",
   "execution_count": 44,
   "metadata": {
    "collapsed": false
   },
   "outputs": [
    {
     "data": {
      "text/plain": [
       "200"
      ]
     },
     "execution_count": 44,
     "metadata": {},
     "output_type": "execute_result"
    }
   ],
   "source": [
    "# create an empty list\n",
    "my_list = []\n",
    "\n",
    "# create a list with stuff in it\n",
    "my_list = [100, 200, 300]\n",
    "\n",
    "# get the value stored in the 1st index of the list\n",
    "my_list[1]"
   ]
  },
  {
   "cell_type": "markdown",
   "metadata": {},
   "source": [
    "Lists are 0-indexed. \n",
    "\n",
    "Lists have [lots of handy methods](https://docs.python.org/2/tutorial/datastructures.html#more-on-lists). You can append, insert, remove, and sort lists."
   ]
  },
  {
   "cell_type": "code",
   "execution_count": 45,
   "metadata": {
    "collapsed": false
   },
   "outputs": [
    {
     "name": "stdout",
     "output_type": "stream",
     "text": [
      "4\n",
      "['my my my', 100, 200, 300, 400]\n",
      "[100, 200, 300, 400]\n"
     ]
    }
   ],
   "source": [
    "# adding to the end of a list\n",
    "my_list.append(400)\n",
    "\n",
    "print(len(my_list))\n",
    "\n",
    "# adding to the beginning of a list\n",
    "# lists can handle heterogenious data.\n",
    "my_list.insert(0, 'my my my')\n",
    "\n",
    "print(my_list)\n",
    "\n",
    "# removing a value from a list\n",
    "my_list.remove('my my my')\n",
    "\n",
    "print(my_list)"
   ]
  },
  {
   "cell_type": "markdown",
   "metadata": {},
   "source": [
    "To remove a value at a particular index, the `del` function is used."
   ]
  },
  {
   "cell_type": "code",
   "execution_count": 46,
   "metadata": {
    "collapsed": false
   },
   "outputs": [
    {
     "data": {
      "text/plain": [
       "[100, 200, 400]"
      ]
     },
     "execution_count": 46,
     "metadata": {},
     "output_type": "execute_result"
    }
   ],
   "source": [
    "# remove the value at index 2 from the list\n",
    "del(my_list[2])\n",
    "\n",
    "my_list"
   ]
  },
  {
   "cell_type": "markdown",
   "metadata": {},
   "source": [
    "**Dicts** are what are typically called _hashes_ or _maps_ in other languages - Just like _Objects_ in JavaScript, they associate keys with values. \n",
    "\n",
    "Creating a Dictionary:"
   ]
  },
  {
   "cell_type": "code",
   "execution_count": 13,
   "metadata": {
    "collapsed": false
   },
   "outputs": [
    {
     "data": {
      "text/plain": [
       "345"
      ]
     },
     "execution_count": 13,
     "metadata": {},
     "output_type": "execute_result"
    }
   ],
   "source": [
    "# create an empty dictionary\n",
    "my_dict = {}\n",
    "\n",
    "# create a dictionary with stuff in it\n",
    "my_dict = {'a': 123, 'b': 345, 'c': 567}\n",
    "\n",
    "# get value associated with the key: 'b'\n",
    "my_dict['b']"
   ]
  },
  {
   "cell_type": "markdown",
   "metadata": {},
   "source": [
    "Use the `in` keyword to check if a key is in a dictionary. "
   ]
  },
  {
   "cell_type": "code",
   "execution_count": 14,
   "metadata": {
    "collapsed": false
   },
   "outputs": [
    {
     "data": {
      "text/plain": [
       "True"
      ]
     },
     "execution_count": 14,
     "metadata": {},
     "output_type": "execute_result"
    }
   ],
   "source": [
    "'b' in my_dict"
   ]
  },
  {
   "cell_type": "code",
   "execution_count": 15,
   "metadata": {
    "collapsed": false
   },
   "outputs": [
    {
     "data": {
      "text/plain": [
       "False"
      ]
     },
     "execution_count": 15,
     "metadata": {},
     "output_type": "execute_result"
    }
   ],
   "source": [
    "'ee' in my_dict"
   ]
  },
  {
   "cell_type": "markdown",
   "metadata": {},
   "source": [
    "Attempting to access a key that is not in the dictionary results in an error."
   ]
  },
  {
   "cell_type": "code",
   "execution_count": 16,
   "metadata": {
    "collapsed": false
   },
   "outputs": [
    {
     "ename": "KeyError",
     "evalue": "'ee'",
     "output_type": "error",
     "traceback": [
      "\u001b[0;31m---------------------------------------------------------------------------\u001b[0m",
      "\u001b[0;31mKeyError\u001b[0m                                  Traceback (most recent call last)",
      "\u001b[0;32m<ipython-input-16-59244737a9c2>\u001b[0m in \u001b[0;36m<module>\u001b[0;34m()\u001b[0m\n\u001b[0;32m----> 1\u001b[0;31m \u001b[0mmy_dict\u001b[0m\u001b[0;34m[\u001b[0m\u001b[0;34m'ee'\u001b[0m\u001b[0;34m]\u001b[0m\u001b[0;34m\u001b[0m\u001b[0m\n\u001b[0m",
      "\u001b[0;31mKeyError\u001b[0m: 'ee'"
     ]
    }
   ],
   "source": [
    "my_dict['ee']"
   ]
  },
  {
   "cell_type": "markdown",
   "metadata": {},
   "source": [
    "## String and List Slices"
   ]
  },
  {
   "cell_type": "markdown",
   "metadata": {},
   "source": [
    "Both strings and lists in python allow for creating new strings or lists from _slices_ of another. \n",
    "\n",
    "\n",
    "The notation is to use square brackets `[` `]` to denote the slice. \n",
    "\n",
    "To get a larger slice, a colon `:` is used to separate the start and end elements to grab. \n",
    "\n"
   ]
  },
  {
   "cell_type": "code",
   "execution_count": 19,
   "metadata": {
    "collapsed": false
   },
   "outputs": [
    {
     "name": "stdout",
     "output_type": "stream",
     "text": [
      "o\n",
      "hello\n"
     ]
    }
   ],
   "source": [
    "# first a string\n",
    "a_string = \"hello, how are you\"\n",
    "\n",
    "# create a slice with just a single character\n",
    "print(a_string[4])\n",
    "\n",
    "# create a new slice with multiple characters using :\n",
    "print(a_string[0:5])"
   ]
  },
  {
   "cell_type": "markdown",
   "metadata": {},
   "source": [
    "Slices start at the first element, and go up to, but don't include the last element."
   ]
  },
  {
   "cell_type": "code",
   "execution_count": 20,
   "metadata": {
    "collapsed": false
   },
   "outputs": [
    {
     "name": "stdout",
     "output_type": "stream",
     "text": [
      "3\n",
      "[3, 4, 5]\n"
     ]
    }
   ],
   "source": [
    "# now a list\n",
    "a_list = [1, 2, 3, 4, 5, 6]\n",
    "\n",
    "print(a_list[2])\n",
    "\n",
    "print(a_list[2:5])\n"
   ]
  },
  {
   "cell_type": "markdown",
   "metadata": {},
   "source": [
    "You can also use negative numbers to start counting at the end of the string or list.\n",
    "\n",
    "Leaving off the last value, and ending with a `:` will make a slice that includes up to the end of the string or list."
   ]
  },
  {
   "cell_type": "code",
   "execution_count": 21,
   "metadata": {
    "collapsed": false
   },
   "outputs": [
    {
     "name": "stdout",
     "output_type": "stream",
     "text": [
      "6\n",
      "[4, 5, 6]\n"
     ]
    }
   ],
   "source": [
    "# This will get the last element in the list\n",
    "print(a_list[-1])\n",
    "\n",
    "# This will get the last three elements in the array.\n",
    "# notice there is no stopping value.\n",
    "print(a_list[-3:])"
   ]
  },
  {
   "cell_type": "markdown",
   "metadata": {},
   "source": [
    "## Conditional Statements"
   ]
  },
  {
   "cell_type": "markdown",
   "metadata": {},
   "source": [
    "A critical feature of Python is that it is \n",
    "\n",
    "   **INDENTATION SENSITIVE**.\n",
    "\n",
    "Meaning that indentation is used to demark code blocks. \n",
    "\n",
    "Here is an example of an `if` statement in Python:"
   ]
  },
  {
   "cell_type": "code",
   "execution_count": 36,
   "metadata": {
    "collapsed": false
   },
   "outputs": [
    {
     "name": "stdout",
     "output_type": "stream",
     "text": [
      "yep its there\n",
      "still in the block\n",
      "we are done here\n"
     ]
    }
   ],
   "source": [
    "if('b' in my_dict):\n",
    "    print('yep its there')\n",
    "    \n",
    "    print('still in the block')\n",
    "else:\n",
    "    print('nope its not')\n",
    "    \n",
    "    print('still not here')\n",
    "    \n",
    "print('we are done here')"
   ]
  },
  {
   "cell_type": "markdown",
   "metadata": {},
   "source": [
    "Conditionals are also suffixed by a \":\" \n"
   ]
  },
  {
   "cell_type": "markdown",
   "metadata": {},
   "source": [
    "## Loops"
   ]
  },
  {
   "cell_type": "markdown",
   "metadata": {},
   "source": [
    "Loops also use indentation to indicate the body of the loop. \n",
    "\n",
    "Here, we use [range()](https://docs.python.org/2/tutorial/controlflow.html#the-range-function) to create a list to iterate over. "
   ]
  },
  {
   "cell_type": "code",
   "execution_count": 37,
   "metadata": {
    "collapsed": false
   },
   "outputs": [
    {
     "name": "stdout",
     "output_type": "stream",
     "text": [
      "0\n",
      "1\n",
      "3\n",
      "6\n",
      "10\n",
      "15\n",
      "21\n",
      "28\n",
      "36\n",
      "45\n",
      "finally\n",
      "45\n"
     ]
    }
   ],
   "source": [
    "sum = 0\n",
    "\n",
    "for i in range(10):\n",
    "    sum = sum + i\n",
    "    print(sum)\n",
    "\n",
    "print('finally')    \n",
    "print(sum)"
   ]
  },
  {
   "cell_type": "markdown",
   "metadata": {},
   "source": [
    "If you need both the index of the iteration and the value, use `enumerate`:\n"
   ]
  },
  {
   "cell_type": "code",
   "execution_count": 41,
   "metadata": {
    "collapsed": false
   },
   "outputs": [
    {
     "name": "stdout",
     "output_type": "stream",
     "text": [
      "0\n",
      "look\n",
      "1\n",
      "a\n",
      "2\n",
      "bird\n"
     ]
    }
   ],
   "source": [
    "values = ['look', 'a', 'bird']\n",
    "\n",
    "for i,value in enumerate(values):\n",
    "    print(i)\n",
    "    print(value)"
   ]
  },
  {
   "cell_type": "markdown",
   "metadata": {},
   "source": [
    "While it is possible to write a `for` loop like this, it is a more common Python practice to use \"list comprehension\" as we will see next."
   ]
  },
  {
   "cell_type": "markdown",
   "metadata": {},
   "source": [
    "## List Comprehension"
   ]
  },
  {
   "cell_type": "markdown",
   "metadata": {},
   "source": [
    "List comprehensions are a tool in python for transforming one list into another one. \n",
    "\n",
    "Filtering is also possible using comprehensions.\n",
    "\n",
    "List comprehensions are frequently used in place of for loops when possible. \n",
    "\n",
    "Let's look a few examples"
   ]
  },
  {
   "cell_type": "code",
   "execution_count": 24,
   "metadata": {
    "collapsed": false
   },
   "outputs": [
    {
     "data": {
      "text/plain": [
       "[2, 4, 6]"
      ]
     },
     "execution_count": 24,
     "metadata": {},
     "output_type": "execute_result"
    }
   ],
   "source": [
    "my_list = [1, 2, 3]\n",
    "\n",
    "# a list comprehension that doubles each value in my_list\n",
    "double_list = [value * 2 for value in my_list]\n",
    "\n",
    "double_list"
   ]
  },
  {
   "cell_type": "markdown",
   "metadata": {},
   "source": [
    "The list comprehension is the stuff inside the `[ ]` brackets. In goes one list (`my_list`) and out comes another (`double_list`). \n",
    "\n",
    "It uses the `for`-`in` structure - just like the `for` loop we looked at.\n",
    "\n",
    "You can perform any manipulation you'd like to transform the old list into the new list.\n",
    "\n",
    "the variable placeholder representing the current value in the list can be named anything you want. \n",
    "\n",
    "Here, we convert each value to strings:"
   ]
  },
  {
   "cell_type": "code",
   "execution_count": 25,
   "metadata": {
    "collapsed": false
   },
   "outputs": [
    {
     "data": {
      "text/plain": [
       "['1', '2', '3']"
      ]
     },
     "execution_count": 25,
     "metadata": {},
     "output_type": "execute_result"
    }
   ],
   "source": [
    "# numbers to strings comprehension\n",
    "[str(val) for val in my_list]"
   ]
  },
  {
   "cell_type": "markdown",
   "metadata": {},
   "source": [
    "List comprehensions can also contain a `if` suffix that serves as a **filter** on the old list."
   ]
  },
  {
   "cell_type": "code",
   "execution_count": 26,
   "metadata": {
    "collapsed": false
   },
   "outputs": [
    {
     "data": {
      "text/plain": [
       "[4, 6]"
      ]
     },
     "execution_count": 26,
     "metadata": {},
     "output_type": "execute_result"
    }
   ],
   "source": [
    "# filtering and transforming\n",
    "[val * 2 for val in my_list if val >= 2]"
   ]
  },
  {
   "cell_type": "markdown",
   "metadata": {},
   "source": [
    "There are lots more you can do with list comprehensions, but we will move on for now. For more info, check out [list comprehensions explained visually](https://treyhunner.com/2015/12/python-list-comprehensions-now-in-color/)."
   ]
  },
  {
   "cell_type": "markdown",
   "metadata": {},
   "source": [
    "## Functions"
   ]
  },
  {
   "cell_type": "markdown",
   "metadata": {},
   "source": [
    "We have used a few functions already, `len()` and `del()` for example. \n",
    "\n",
    "Now let's take a look at how to create functions of our own. "
   ]
  },
  {
   "cell_type": "code",
   "execution_count": 27,
   "metadata": {
    "collapsed": true
   },
   "outputs": [],
   "source": [
    "def double(value):\n",
    "    new_value = value * 2\n",
    "    return new_value"
   ]
  },
  {
   "cell_type": "code",
   "execution_count": 28,
   "metadata": {
    "collapsed": false
   },
   "outputs": [
    {
     "data": {
      "text/plain": [
       "40"
      ]
     },
     "execution_count": 28,
     "metadata": {},
     "output_type": "execute_result"
    }
   ],
   "source": [
    "double(20)"
   ]
  },
  {
   "cell_type": "code",
   "execution_count": 29,
   "metadata": {
    "collapsed": false
   },
   "outputs": [
    {
     "data": {
      "text/plain": [
       "28.8"
      ]
     },
     "execution_count": 29,
     "metadata": {},
     "output_type": "execute_result"
    }
   ],
   "source": [
    "double(14.4)"
   ]
  },
  {
   "cell_type": "markdown",
   "metadata": {},
   "source": [
    "Again, indentation is used to define the start and end of the function code block. \n",
    "\n",
    "The function definition begins with the `def` keyword and ends with a colon. `return` is used to return a value from the function. \n",
    "\n",
    "That's really all there is to it!"
   ]
  },
  {
   "cell_type": "markdown",
   "metadata": {},
   "source": [
    "## Importing Modules"
   ]
  },
  {
   "cell_type": "markdown",
   "metadata": {},
   "source": [
    "Python uses packages to modularize code. \n",
    "\n",
    "We can use these other modules by **importing** them. Once a module has been imported, we have access to its functions and variables. \n"
   ]
  },
  {
   "cell_type": "code",
   "execution_count": 30,
   "metadata": {
    "collapsed": false
   },
   "outputs": [],
   "source": [
    "#import the re package using the import keyword\n",
    "import re\n",
    "\n",
    "pattern = re.compile(\"b.dy\")\n"
   ]
  },
  {
   "cell_type": "markdown",
   "metadata": {},
   "source": [
    "If you want to add a specific variable or function from a package into your environment, you can import it specifically using this syntax:"
   ]
  },
  {
   "cell_type": "code",
   "execution_count": 31,
   "metadata": {
    "collapsed": false
   },
   "outputs": [
    {
     "data": {
      "text/plain": [
       "'!\"#$%&\\'()*+,-./:;<=>?@[\\\\]^_`{|}~'"
      ]
     },
     "execution_count": 31,
     "metadata": {},
     "output_type": "execute_result"
    }
   ],
   "source": [
    "# import the punctuation variable from the string module\n",
    "from string import punctuation\n",
    "\n",
    "# now 'punctuation' is in our environment\n",
    "punctuation"
   ]
  },
  {
   "cell_type": "markdown",
   "metadata": {},
   "source": [
    "## Reading from a File"
   ]
  },
  {
   "cell_type": "markdown",
   "metadata": {},
   "source": [
    "Real quickly we will look at common patterns in Python for reading files. \n",
    "\n",
    "You can 'open' a file and create a file handle to that file using the `open()` function:\n"
   ]
  },
  {
   "cell_type": "code",
   "execution_count": 32,
   "metadata": {
    "collapsed": true
   },
   "outputs": [],
   "source": [
    "filename = 'data/test.txt'\n",
    "handle =  open(filename)"
   ]
  },
  {
   "cell_type": "markdown",
   "metadata": {},
   "source": [
    "Then reading the contents of a file can be done using the `read()` or `readlines()` methods"
   ]
  },
  {
   "cell_type": "code",
   "execution_count": 33,
   "metadata": {
    "collapsed": false
   },
   "outputs": [
    {
     "data": {
      "text/plain": [
       "'This is the contents of the file.\\nThe file has this in it.\\nAnd nothing else.\\n\\n'"
      ]
     },
     "execution_count": 33,
     "metadata": {},
     "output_type": "execute_result"
    }
   ],
   "source": [
    "# returns a string with the entire contents of the file.\n",
    "content = handle.read()\n",
    "content"
   ]
  },
  {
   "cell_type": "markdown",
   "metadata": {},
   "source": [
    "But make sure you close the file handle after you are done"
   ]
  },
  {
   "cell_type": "code",
   "execution_count": 34,
   "metadata": {
    "collapsed": true
   },
   "outputs": [],
   "source": [
    "handle.close()"
   ]
  },
  {
   "cell_type": "markdown",
   "metadata": {},
   "source": [
    "Often you will see the use of `with` to create the file handle.\n",
    "\n",
    "This will automatically close the file after the code block has been executed"
   ]
  },
  {
   "cell_type": "code",
   "execution_count": 35,
   "metadata": {
    "collapsed": false
   },
   "outputs": [
    {
     "name": "stdout",
     "output_type": "stream",
     "text": [
      "This is the contents of the file.\n",
      "\n",
      "The file has this in it.\n",
      "\n",
      "And nothing else.\n",
      "\n",
      "\n",
      "\n"
     ]
    }
   ],
   "source": [
    "with open(filename) as handle:\n",
    "    for line in handle:\n",
    "        print(line)\n",
    "        \n"
   ]
  },
  {
   "cell_type": "markdown",
   "metadata": {},
   "source": [
    "Check out more about [File I/O here](https://docs.python.org/2/tutorial/inputoutput.html)"
   ]
  }
 ],
 "metadata": {
  "kernelspec": {
   "display_name": "Python 2",
   "language": "python",
   "name": "python2"
  },
  "language_info": {
   "codemirror_mode": {
    "name": "ipython",
    "version": 2
   },
   "file_extension": ".py",
   "mimetype": "text/x-python",
   "name": "python",
   "nbconvert_exporter": "python",
   "pygments_lexer": "ipython2",
   "version": "2.7.11"
  }
 },
 "nbformat": 4,
 "nbformat_minor": 0
}
