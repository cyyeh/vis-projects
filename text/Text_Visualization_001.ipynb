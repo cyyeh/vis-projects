{
  "nbformat": 4,
  "nbformat_minor": 0,
  "metadata": {
    "colab": {
      "provenance": [],
      "authorship_tag": "ABX9TyOMjJg7zG17iJPFWoTchhLx",
      "include_colab_link": true
    },
    "kernelspec": {
      "name": "python3",
      "display_name": "Python 3"
    },
    "language_info": {
      "name": "python"
    }
  },
  "cells": [
    {
      "cell_type": "markdown",
      "metadata": {
        "id": "view-in-github",
        "colab_type": "text"
      },
      "source": [
        "<a href=\"https://colab.research.google.com/github/cyyeh/vis-projects/blob/main/text/Text_Visualization_001.ipynb\" target=\"_parent\"><img src=\"https://colab.research.google.com/assets/colab-badge.svg\" alt=\"Open In Colab\"/></a>"
      ]
    },
    {
      "cell_type": "markdown",
      "source": [
        "# Text Visualization-001\n",
        "\n",
        "- Resources\n",
        "  - [CSE512 Text Visualization](https://courses.cs.washington.edu/courses/cse512/19sp/lectures/CSE512-Text.pdf)\n",
        "  - [Mapping Text with Phrase Nets](http://hint.fm/papers/phrase-net-rev5.pdf)\n",
        "  - [Interpretation and Trust: Designing Model-Driven Visualizations for Text Analysis](https://idl.cs.washington.edu/papers/designing-model-driven-vis/)"
      ],
      "metadata": {
        "id": "KvXFgW9hhPZK"
      }
    },
    {
      "cell_type": "code",
      "execution_count": null,
      "metadata": {
        "id": "3aFwCG4VhI5x"
      },
      "outputs": [],
      "source": []
    }
  ]
}